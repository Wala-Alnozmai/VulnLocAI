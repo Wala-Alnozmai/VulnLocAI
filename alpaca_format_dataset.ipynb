{
 "cells": [
  {
   "cell_type": "markdown",
   "metadata": {},
   "source": [
    "### the prompt to create the alpaca dataset\n",
    "\n",
    "**Format:**\n",
    "- **Instruction**: \"Analyze the following Java code snippet and identify any security vulnerability\"\n",
    "- **Input**: Code Snippet\n",
    "- **Output**: \n",
    "  - **If vulnerable**: `CWE-ID, Exact Vulnerable Line, Description`\n",
    "  - **If BENIGN**: `No vulnerability detected. The code is secure.`\n",
    "\n",
    "This creates a generic vulnerability detection task without specifying the CWE ID in the instruction, making the model learn to identify vulnerabilities independently and also distinguish between vulnerable and secure code."
   ]
  },
  {
   "cell_type": "code",
   "execution_count": 6,
   "metadata": {},
   "outputs": [
    {
     "name": "stdout",
     "output_type": "stream",
     "text": [
      "Total number of rows: 20000\n",
      "Vulnerable cases: 10000\n",
      "BENIGN cases: 10000\n"
     ]
    }
   ],
   "source": [
    "# this code is used to convert the dataset to the alpaca format\n",
    "import pandas as pd\n",
    "\n",
    "# Read the CSV file\n",
    "file_path = 'training dataset/dataset.csv'\n",
    "df = pd.read_csv(file_path)\n",
    "\n",
    "# Create the alpaca format\n",
    "df_find = df[['CWE ID', 'Code Snippet', 'Exact Vulnerable Line', 'Description']].copy()\n",
    "df_find['instruction'] = \"Analyze the following Java code snippet and identify any security vulnerability\"\n",
    "df_find['input'] = df_find['Code Snippet']\n",
    "\n",
    "# Handle BENIGN vs vulnerable cases differently\n",
    "def create_output(row):\n",
    "    if str(row['CWE ID']).upper() == 'BENIGN':\n",
    "        return \"No vulnerability detected. The code is secure.\"\n",
    "    else:\n",
    "        return f\"{row['CWE ID']}, {row['Exact Vulnerable Line']}, {row['Description']}\"\n",
    "\n",
    "df_find['output'] = df_find.apply(create_output, axis=1)\n",
    "\n",
    "# Select only the required columns in the correct order\n",
    "df_alpaca = df_find[['instruction', 'input', 'output']]\n",
    "\n",
    "# Save the new dataframe to a CSV file\n",
    "output_file_path = 'training dataset/alpaca_format_dataset.csv'\n",
    "df_alpaca.to_csv(output_file_path, index=False)\n",
    "\n",
    "# Print statistics\n",
    "print(f\"Total number of rows: {len(df_alpaca)}\")\n",
    "print(f\"Vulnerable cases: {len(df_alpaca[df_alpaca['output'].str.contains('CWE')])}\")\n",
    "print(f\"BENIGN cases: {len(df_alpaca[df_alpaca['output'].str.contains('No vulnerability')])}\")"
   ]
  }
 ],
 "metadata": {
  "kernelspec": {
   "display_name": ".venv",
   "language": "python",
   "name": "python3"
  },
  "language_info": {
   "codemirror_mode": {
    "name": "ipython",
    "version": 3
   },
   "file_extension": ".py",
   "mimetype": "text/x-python",
   "name": "python",
   "nbconvert_exporter": "python",
   "pygments_lexer": "ipython3",
   "version": "3.9.24"
  }
 },
 "nbformat": 4,
 "nbformat_minor": 2
}
